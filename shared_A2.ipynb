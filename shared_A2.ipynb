{
 "cells": [
  {
   "cell_type": "markdown",
   "metadata": {},
   "source": [
    "## Aufgabe 2 : Schätzung, Test, Prognose und Prognosefehler im multivariaten Modell ##\n",
    "\n",
    "**Verwendeter Datensatz:** \n",
    "\n",
    "**Ziel:** Vorhersage auf Basis verschiedener unabhängiger Variablen\n",
    "\n",
    "**Allgemeines Vorgehen:**\n",
    "1. Daten laden und aufbereiten\n",
    "2. EDA (Vorstellung des Datensatzes)\n",
    "3. Modellspezifikation\n",
    "4. Modellschätzung\n",
    "5. (Test der Annahmen (aus bivariater Analyse))\n",
    "6. F-Test\n",
    "7. Prognose (Fehler) und Prognoseintervalle\n",
    "8. Test der Annahmen (Multikollinearität, Strukturbrüche, Homoskedastizität, Autokorrelation, Normalverteilung)\n",
    " "
   ]
  },
  {
   "cell_type": "code",
   "execution_count": null,
   "metadata": {},
   "outputs": [],
   "source": []
  }
 ],
 "metadata": {
  "language_info": {
   "name": "python"
  }
 },
 "nbformat": 4,
 "nbformat_minor": 2
}
