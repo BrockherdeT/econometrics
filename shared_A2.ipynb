{
 "cells": [
  {
   "cell_type": "markdown",
   "metadata": {},
   "source": [
    "## Aufgabe 2 : Schätzung, Test, Prognose und Prognosefehler im multivariaten Modell ##\n",
    "\n",
    "**Verwendeter Datensatz:** https://www.kaggle.com/datasets/mirichoi0218/insurance\n",
    "\n",
    "**Ziel:** Vorhersage auf Basis verschiedener unabhängiger Variablen\n",
    "\n",
    "**Allgemeines Vorgehen:**\n",
    "1. Daten laden und aufbereiten\n",
    "2. EDA (Vorstellung des Datensatzes) # jasmina\n",
    "3. Modellspezifikation # jasmina\n",
    "4. Modellschätzung # jasmina\n",
    "6. F-Test # tina\n",
    "7. Prognose (Fehler) und Prognoseintervalle # tina\n",
    "8. Test der Annahmen bivariat + (Multikollinearität, Strukturbrüche, Homoskedastizität, Autokorrelation, Normalverteilung) # martin\n",
    "9. Interpretation"
   ]
  },
  {
   "cell_type": "code",
   "execution_count": null,
   "metadata": {},
   "outputs": [],
   "source": []
  }
 ],
 "metadata": {
  "language_info": {
   "name": "python"
  }
 },
 "nbformat": 4,
 "nbformat_minor": 2
}
